{
 "cells": [
  {
   "cell_type": "markdown",
   "metadata": {
    "collapsed": true
   },
   "source": [
    "# qecsim demos"
   ]
  },
  {
   "cell_type": "markdown",
   "metadata": {},
   "source": [
    "## Comparing planar MPS and MWPM decoders for a correlated error\n",
    "This demo shows verbosely that the matrix product state (MPS) decoder can successfully recover from a correlated error on the planar code when the minimum weight perfect matching (MWPM) decoder fails.\n",
    "\n",
    "| For normal use, the simulation of a single error correction run is encapsulated in the function:\n",
    "| `qecsim.app.run_once(code, error_model, decoder, error_probability)`,\n",
    "| and the simulation of many error correction runs is encapsulated in the function:\n",
    "| `qecsim.app.run(code, error_model, decoder, error_probability, max_runs, max_failures)`."
   ]
  },
  {
   "cell_type": "markdown",
   "metadata": {},
   "source": [
    "### Initialise the models"
   ]
  },
  {
   "cell_type": "code",
   "execution_count": 1,
   "metadata": {},
   "outputs": [
    {
     "name": "stdout",
     "output_type": "stream",
     "text": [
      "PlanarCode(3, 3)\n",
      "PlanarMPSDecoder(None, 'c', None, None)\n",
      "PlanarMWPMDecoder()\n"
     ]
    }
   ],
   "source": [
    "%run qsu.ipynb  # color-printing functions\n",
    "from qecsim import paulitools as pt\n",
    "from qecsim.models.planar import PlanarCode, PlanarMPSDecoder, PlanarMWPMDecoder\n",
    "\n",
    "# initialise models\n",
    "my_code = PlanarCode(3, 3)\n",
    "my_mps_decoder = PlanarMPSDecoder()\n",
    "my_mwpm_decoder = PlanarMWPMDecoder()\n",
    "# print models\n",
    "print(my_code)\n",
    "print(my_mps_decoder)\n",
    "print(my_mwpm_decoder)"
   ]
  },
  {
   "cell_type": "markdown",
   "metadata": {},
   "source": [
    "### Create a correlated error"
   ]
  },
  {
   "cell_type": "code",
   "execution_count": 2,
   "metadata": {},
   "outputs": [
    {
     "data": {
      "text/html": [
       "<div class=\"highlight\"><pre style=\"line-height:1!important;\">error:\n",
       "·─┬─·─┬─·\n",
       "  ·   ·  \n",
       "<span style=\"color:magenta; font-weight:bold\">Y</span>─┼─·─┼─<span style=\"color:magenta; font-weight:bold\">Y</span>\n",
       "  ·   ·  \n",
       "·─┴─·─┴─·</pre></div>"
      ],
      "text/plain": [
       "<IPython.core.display.HTML object>"
      ]
     },
     "metadata": {},
     "output_type": "display_data"
    }
   ],
   "source": [
    "# error: correlated error\n",
    "error = my_code.new_pauli().site('Y', (2, 0), (2, 4)).to_bsf()\n",
    "qsu.print_pauli('error:\\n{}'.format(my_code.new_pauli(error)))"
   ]
  },
  {
   "cell_type": "markdown",
   "metadata": {},
   "source": [
    "### Evaluate the syndrome\n",
    "The syndrome is a binary array indicating the stabilizers with which the error does not commute."
   ]
  },
  {
   "cell_type": "code",
   "execution_count": 3,
   "metadata": {},
   "outputs": [
    {
     "data": {
      "text/html": [
       "<div class=\"highlight\"><pre style=\"line-height:1!important;\">syndrome:\n",
       "──┬───┬──\n",
       "<span style=\"color:blue; font-weight:bold\">Z</span> │   │ <span style=\"color:blue; font-weight:bold\">Z</span>\n",
       "──<span style=\"color:red; font-weight:bold\">X</span>───<span style=\"color:red; font-weight:bold\">X</span>──\n",
       "<span style=\"color:blue; font-weight:bold\">Z</span> │   │ <span style=\"color:blue; font-weight:bold\">Z</span>\n",
       "──┴───┴──</pre></div>"
      ],
      "text/plain": [
       "<IPython.core.display.HTML object>"
      ]
     },
     "metadata": {},
     "output_type": "display_data"
    }
   ],
   "source": [
    "# syndrome: stabilizers that do not commute with the error\n",
    "syndrome = pt.bsp(error, my_code.stabilizers.T)\n",
    "qsu.print_pauli('syndrome:\\n{}'.format(my_code.ascii_art(syndrome)))"
   ]
  },
  {
   "cell_type": "markdown",
   "metadata": {},
   "source": [
    "### Decoding fails using the MWPM decoder\n",
    "In this case, the recovery operation is found by a minimum weight perfect matching (MWPM) decoder that processes X errors and Z errors separately and so fails to find a successful recovery operation."
   ]
  },
  {
   "cell_type": "code",
   "execution_count": 4,
   "metadata": {},
   "outputs": [
    {
     "data": {
      "text/html": [
       "<div class=\"highlight\"><pre style=\"line-height:1!important;\">mwpm_recovery:\n",
       "·─┬─·─┬─·\n",
       "  ·   ·  \n",
       "<span style=\"color:red; font-weight:bold\">X</span>─┼─<span style=\"color:blue; font-weight:bold\">Z</span>─┼─<span style=\"color:red; font-weight:bold\">X</span>\n",
       "  ·   ·  \n",
       "·─┴─·─┴─·</pre></div>"
      ],
      "text/plain": [
       "<IPython.core.display.HTML object>"
      ]
     },
     "metadata": {},
     "output_type": "display_data"
    },
    {
     "data": {
      "text/html": [
       "<div class=\"highlight\"><pre style=\"line-height:1!important;\">mwpm_recovery ^ error:\n",
       "·─┬─·─┬─·\n",
       "  ·   ·  \n",
       "<span style=\"color:blue; font-weight:bold\">Z</span>─┼─<span style=\"color:blue; font-weight:bold\">Z</span>─┼─<span style=\"color:blue; font-weight:bold\">Z</span>\n",
       "  ·   ·  \n",
       "·─┴─·─┴─·</pre></div>"
      ],
      "text/plain": [
       "<IPython.core.display.HTML object>"
      ]
     },
     "metadata": {},
     "output_type": "display_data"
    },
    {
     "name": "stdout",
     "output_type": "stream",
     "text": [
      "check mwpm_recovery ^ error commutes with stabilizers (i.e. all zeros by construction):\n",
      "[0 0 0 0 0 0 0 0 0 0 0 0]\n",
      "\n",
      "success iff mwpm_recovery ^ error commutes with logicals (i.e. all zeros):\n",
      "[1 0]\n",
      "\n"
     ]
    }
   ],
   "source": [
    "# recovery: best match recovery operation based on decoder\n",
    "mwpm_recovery = my_mwpm_decoder.decode(my_code, syndrome)\n",
    "qsu.print_pauli('mwpm_recovery:\\n{}'.format(my_code.new_pauli(mwpm_recovery)))\n",
    "qsu.print_pauli('mwpm_recovery ^ error:\\n{}'.format(my_code.new_pauli(mwpm_recovery ^ error)))\n",
    "print('check mwpm_recovery ^ error commutes with stabilizers (i.e. all zeros by construction):\\n{}\\n'.format(\n",
    "        pt.bsp(mwpm_recovery ^ error, my_code.stabilizers.T)))\n",
    "print('success iff mwpm_recovery ^ error commutes with logicals (i.e. all zeros):\\n{}\\n'.format(\n",
    "        pt.bsp(mwpm_recovery ^ error, my_code.logicals.T)))"
   ]
  },
  {
   "cell_type": "markdown",
   "metadata": {},
   "source": [
    "### Decoding succeeds using the MPS decoder\n",
    "In this case, the recovery operation is found by a matrix product state (MPS) decoder that approximates a maximum likelihood decoder and so succeeds in finding a successful recovery operation."
   ]
  },
  {
   "cell_type": "code",
   "execution_count": 5,
   "metadata": {},
   "outputs": [
    {
     "data": {
      "text/html": [
       "<div class=\"highlight\"><pre style=\"line-height:1!important;\">mps_recovery:\n",
       "<span style=\"color:red; font-weight:bold\">X</span>─┬─·─┬─<span style=\"color:red; font-weight:bold\">X</span>\n",
       "  ·   ·  \n",
       "<span style=\"color:blue; font-weight:bold\">Z</span>─┼─·─┼─<span style=\"color:blue; font-weight:bold\">Z</span>\n",
       "  ·   ·  \n",
       "<span style=\"color:red; font-weight:bold\">X</span>─┴─·─┴─<span style=\"color:red; font-weight:bold\">X</span></pre></div>"
      ],
      "text/plain": [
       "<IPython.core.display.HTML object>"
      ]
     },
     "metadata": {},
     "output_type": "display_data"
    },
    {
     "data": {
      "text/html": [
       "<div class=\"highlight\"><pre style=\"line-height:1!important;\">mps_recovery ^ error:\n",
       "<span style=\"color:red; font-weight:bold\">X</span>─┬─·─┬─<span style=\"color:red; font-weight:bold\">X</span>\n",
       "  ·   ·  \n",
       "<span style=\"color:red; font-weight:bold\">X</span>─┼─·─┼─<span style=\"color:red; font-weight:bold\">X</span>\n",
       "  ·   ·  \n",
       "<span style=\"color:red; font-weight:bold\">X</span>─┴─·─┴─<span style=\"color:red; font-weight:bold\">X</span></pre></div>"
      ],
      "text/plain": [
       "<IPython.core.display.HTML object>"
      ]
     },
     "metadata": {},
     "output_type": "display_data"
    },
    {
     "name": "stdout",
     "output_type": "stream",
     "text": [
      "check mps_recovery ^ error commutes with stabilizers (i.e. all zeros by construction):\n",
      "[0 0 0 0 0 0 0 0 0 0 0 0]\n",
      "\n",
      "success iff mps_recovery ^ error commutes with logicals (i.e. all zeros):\n",
      "[0 0]\n",
      "\n"
     ]
    }
   ],
   "source": [
    "# recovery: best match recovery operation based on decoder\n",
    "mps_recovery = my_mps_decoder.decode(my_code, syndrome)\n",
    "qsu.print_pauli('mps_recovery:\\n{}'.format(my_code.new_pauli(mps_recovery)))\n",
    "qsu.print_pauli('mps_recovery ^ error:\\n{}'.format(my_code.new_pauli(mps_recovery ^ error)))\n",
    "print('check mps_recovery ^ error commutes with stabilizers (i.e. all zeros by construction):\\n{}\\n'.format(\n",
    "        pt.bsp(mps_recovery ^ error, my_code.stabilizers.T)))\n",
    "print('success iff mps_recovery ^ error commutes with logicals (i.e. all zeros):\\n{}\\n'.format(\n",
    "        pt.bsp(mps_recovery ^ error, my_code.logicals.T)))"
   ]
  }
 ],
 "metadata": {
  "anaconda-cloud": {},
  "kernelspec": {
   "display_name": "Python 3",
   "language": "python",
   "name": "python3"
  },
  "language_info": {
   "codemirror_mode": {
    "name": "ipython",
    "version": 3
   },
   "file_extension": ".py",
   "mimetype": "text/x-python",
   "name": "python",
   "nbconvert_exporter": "python",
   "pygments_lexer": "ipython3",
   "version": "3.7.7"
  }
 },
 "nbformat": 4,
 "nbformat_minor": 1
}
